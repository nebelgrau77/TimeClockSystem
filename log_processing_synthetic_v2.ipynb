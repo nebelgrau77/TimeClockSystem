{
 "cells": [
  {
   "cell_type": "code",
   "execution_count": 1,
   "metadata": {},
   "outputs": [],
   "source": [
    "import os"
   ]
  },
  {
   "cell_type": "code",
   "execution_count": 4,
   "metadata": {},
   "outputs": [],
   "source": [
    "import pandas as pd"
   ]
  },
  {
   "cell_type": "code",
   "execution_count": 55,
   "metadata": {},
   "outputs": [],
   "source": [
    "import random"
   ]
  },
  {
   "cell_type": "code",
   "execution_count": 150,
   "metadata": {},
   "outputs": [],
   "source": [
    "names = ['Joey', 'Phoebe', 'Chandler', 'Ross', 'Monica', 'Rachel']\n",
    "dfs = []\n",
    "for name in names:\n",
    "    df_entry = pd.DataFrame()\n",
    "    df_exit = pd.DataFrame()\n",
    "    # create synthetic timestamps between 8 and 9 AM / 5 and 6 PM\n",
    "    df_entry['timestamp'] = [pd.Timestamp('2019-06-{:02d} 08:30:00'.format(3+i)) + pd.Timedelta(random.randint(-15,16), 'm') for i in range(5)]\n",
    "    df_exit['timestamp'] = [pd.Timestamp('2019-06-{:02d} 17:30:00'.format(3+i)) + pd.Timedelta(random.randint(-15,16), 'm') for i in range(5)]\n",
    "    df_time = pd.concat([df_entry, df_exit])\n",
    "    df_time['name'] = name\n",
    "    # calculate the timedeltas within the same day\n",
    "    for day in df_time['timestamp'].map(lambda x: x.day).unique():\n",
    "        df_time.loc[df_time['timestamp'].map(lambda x: x.day) == day, 'delta'] = df_time.loc[df_time['timestamp'].map(lambda x: x.day) == day, 'timestamp'].diff().shift(0).fillna(pd.Timedelta(seconds = 0))  \n",
    "    # calculate overtime as a difference between the total work time and the standard 8 hours\n",
    "    df_time.loc[df_time['delta'] > pd.Timedelta(0), 'overtime'] = df_time.loc[df_time['delta'] > pd.Timedelta(0), 'delta'] - pd.Timedelta(8,'h')\n",
    "    df_time.loc[df_time['overtime'].isna(), 'overtime'] = pd.Timedelta(0)\n",
    "    dfs.append(df_time)\n",
    "\n",
    "friends_time = pd.concat(dfs)\n",
    "friends_time = friends_time.sort_values('timestamp').reset_index()\n",
    "friends_time.drop('index', axis = 1, inplace = True)\n",
    "    "
   ]
  },
  {
   "cell_type": "code",
   "execution_count": 152,
   "metadata": {},
   "outputs": [
    {
     "data": {
      "text/html": [
       "<div>\n",
       "<style scoped>\n",
       "    .dataframe tbody tr th:only-of-type {\n",
       "        vertical-align: middle;\n",
       "    }\n",
       "\n",
       "    .dataframe tbody tr th {\n",
       "        vertical-align: top;\n",
       "    }\n",
       "\n",
       "    .dataframe thead th {\n",
       "        text-align: right;\n",
       "    }\n",
       "</style>\n",
       "<table border=\"1\" class=\"dataframe\">\n",
       "  <thead>\n",
       "    <tr style=\"text-align: right;\">\n",
       "      <th></th>\n",
       "      <th>timestamp</th>\n",
       "      <th>name</th>\n",
       "      <th>delta</th>\n",
       "      <th>overtime</th>\n",
       "    </tr>\n",
       "  </thead>\n",
       "  <tbody>\n",
       "    <tr>\n",
       "      <th>40</th>\n",
       "      <td>2019-06-06 08:30:00</td>\n",
       "      <td>Chandler</td>\n",
       "      <td>00:00:00</td>\n",
       "      <td>00:00:00</td>\n",
       "    </tr>\n",
       "    <tr>\n",
       "      <th>16</th>\n",
       "      <td>2019-06-04 08:46:00</td>\n",
       "      <td>Ross</td>\n",
       "      <td>00:00:00</td>\n",
       "      <td>00:00:00</td>\n",
       "    </tr>\n",
       "    <tr>\n",
       "      <th>21</th>\n",
       "      <td>2019-06-04 17:32:00</td>\n",
       "      <td>Joey</td>\n",
       "      <td>09:14:00</td>\n",
       "      <td>01:14:00</td>\n",
       "    </tr>\n",
       "    <tr>\n",
       "      <th>3</th>\n",
       "      <td>2019-06-03 08:39:00</td>\n",
       "      <td>Monica</td>\n",
       "      <td>00:00:00</td>\n",
       "      <td>00:00:00</td>\n",
       "    </tr>\n",
       "    <tr>\n",
       "      <th>2</th>\n",
       "      <td>2019-06-03 08:29:00</td>\n",
       "      <td>Rachel</td>\n",
       "      <td>00:00:00</td>\n",
       "      <td>00:00:00</td>\n",
       "    </tr>\n",
       "  </tbody>\n",
       "</table>\n",
       "</div>"
      ],
      "text/plain": [
       "             timestamp      name    delta overtime\n",
       "40 2019-06-06 08:30:00  Chandler 00:00:00 00:00:00\n",
       "16 2019-06-04 08:46:00      Ross 00:00:00 00:00:00\n",
       "21 2019-06-04 17:32:00      Joey 09:14:00 01:14:00\n",
       "3  2019-06-03 08:39:00    Monica 00:00:00 00:00:00\n",
       "2  2019-06-03 08:29:00    Rachel 00:00:00 00:00:00"
      ]
     },
     "execution_count": 152,
     "metadata": {},
     "output_type": "execute_result"
    }
   ],
   "source": [
    "friends_time.sample(5)"
   ]
  },
  {
   "cell_type": "code",
   "execution_count": 153,
   "metadata": {},
   "outputs": [
    {
     "data": {
      "text/html": [
       "<div>\n",
       "<style scoped>\n",
       "    .dataframe tbody tr th:only-of-type {\n",
       "        vertical-align: middle;\n",
       "    }\n",
       "\n",
       "    .dataframe tbody tr th {\n",
       "        vertical-align: top;\n",
       "    }\n",
       "\n",
       "    .dataframe thead th {\n",
       "        text-align: right;\n",
       "    }\n",
       "</style>\n",
       "<table border=\"1\" class=\"dataframe\">\n",
       "  <thead>\n",
       "    <tr style=\"text-align: right;\">\n",
       "      <th></th>\n",
       "      <th>delta</th>\n",
       "    </tr>\n",
       "    <tr>\n",
       "      <th>name</th>\n",
       "      <th></th>\n",
       "    </tr>\n",
       "  </thead>\n",
       "  <tbody>\n",
       "    <tr>\n",
       "      <th>Chandler</th>\n",
       "      <td>1 days 21:48:00</td>\n",
       "    </tr>\n",
       "    <tr>\n",
       "      <th>Joey</th>\n",
       "      <td>1 days 21:05:00</td>\n",
       "    </tr>\n",
       "    <tr>\n",
       "      <th>Monica</th>\n",
       "      <td>1 days 20:44:00</td>\n",
       "    </tr>\n",
       "    <tr>\n",
       "      <th>Phoebe</th>\n",
       "      <td>1 days 20:39:00</td>\n",
       "    </tr>\n",
       "    <tr>\n",
       "      <th>Rachel</th>\n",
       "      <td>1 days 20:45:00</td>\n",
       "    </tr>\n",
       "    <tr>\n",
       "      <th>Ross</th>\n",
       "      <td>1 days 20:26:00</td>\n",
       "    </tr>\n",
       "  </tbody>\n",
       "</table>\n",
       "</div>"
      ],
      "text/plain": [
       "                   delta\n",
       "name                    \n",
       "Chandler 1 days 21:48:00\n",
       "Joey     1 days 21:05:00\n",
       "Monica   1 days 20:44:00\n",
       "Phoebe   1 days 20:39:00\n",
       "Rachel   1 days 20:45:00\n",
       "Ross     1 days 20:26:00"
      ]
     },
     "execution_count": 153,
     "metadata": {},
     "output_type": "execute_result"
    }
   ],
   "source": [
    "friends_time.groupby('name').agg({'delta':'sum'})\n",
    "\n",
    "#only some simple aggregations like sum, max and min work in this way on timedelta objects"
   ]
  },
  {
   "cell_type": "code",
   "execution_count": 154,
   "metadata": {},
   "outputs": [
    {
     "data": {
      "text/html": [
       "<div>\n",
       "<style scoped>\n",
       "    .dataframe tbody tr th:only-of-type {\n",
       "        vertical-align: middle;\n",
       "    }\n",
       "\n",
       "    .dataframe tbody tr th {\n",
       "        vertical-align: top;\n",
       "    }\n",
       "\n",
       "    .dataframe thead th {\n",
       "        text-align: right;\n",
       "    }\n",
       "</style>\n",
       "<table border=\"1\" class=\"dataframe\">\n",
       "  <thead>\n",
       "    <tr style=\"text-align: right;\">\n",
       "      <th></th>\n",
       "      <th>delta</th>\n",
       "      <th>overtime</th>\n",
       "    </tr>\n",
       "    <tr>\n",
       "      <th>name</th>\n",
       "      <th></th>\n",
       "      <th></th>\n",
       "    </tr>\n",
       "  </thead>\n",
       "  <tbody>\n",
       "    <tr>\n",
       "      <th>Chandler</th>\n",
       "      <td>09:09:36</td>\n",
       "      <td>01:09:36</td>\n",
       "    </tr>\n",
       "    <tr>\n",
       "      <th>Joey</th>\n",
       "      <td>09:01:00</td>\n",
       "      <td>01:01:00</td>\n",
       "    </tr>\n",
       "    <tr>\n",
       "      <th>Monica</th>\n",
       "      <td>08:56:48</td>\n",
       "      <td>00:56:48</td>\n",
       "    </tr>\n",
       "    <tr>\n",
       "      <th>Phoebe</th>\n",
       "      <td>08:55:48</td>\n",
       "      <td>00:55:48</td>\n",
       "    </tr>\n",
       "    <tr>\n",
       "      <th>Rachel</th>\n",
       "      <td>08:57:00</td>\n",
       "      <td>00:57:00</td>\n",
       "    </tr>\n",
       "    <tr>\n",
       "      <th>Ross</th>\n",
       "      <td>08:53:12</td>\n",
       "      <td>00:53:12</td>\n",
       "    </tr>\n",
       "  </tbody>\n",
       "</table>\n",
       "</div>"
      ],
      "text/plain": [
       "            delta overtime\n",
       "name                      \n",
       "Chandler 09:09:36 01:09:36\n",
       "Joey     09:01:00 01:01:00\n",
       "Monica   08:56:48 00:56:48\n",
       "Phoebe   08:55:48 00:55:48\n",
       "Rachel   08:57:00 00:57:00\n",
       "Ross     08:53:12 00:53:12"
      ]
     },
     "execution_count": 154,
     "metadata": {},
     "output_type": "execute_result"
    }
   ],
   "source": [
    "#calculate average work time and overtime\n",
    "friends_time[friends_time['delta'] > pd.Timedelta(0)].groupby('name')['delta','overtime'].mean(numeric_only = False)"
   ]
  },
  {
   "cell_type": "code",
   "execution_count": null,
   "metadata": {},
   "outputs": [],
   "source": []
  }
 ],
 "metadata": {
  "kernelspec": {
   "display_name": "Python 3",
   "language": "python",
   "name": "python3"
  },
  "language_info": {
   "codemirror_mode": {
    "name": "ipython",
    "version": 3
   },
   "file_extension": ".py",
   "mimetype": "text/x-python",
   "name": "python",
   "nbconvert_exporter": "python",
   "pygments_lexer": "ipython3",
   "version": "3.7.2"
  }
 },
 "nbformat": 4,
 "nbformat_minor": 2
}
